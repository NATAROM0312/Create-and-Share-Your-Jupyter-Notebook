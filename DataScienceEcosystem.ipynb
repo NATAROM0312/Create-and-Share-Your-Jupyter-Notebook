{
 "cells": [
  {
   "cell_type": "markdown",
   "id": "5f51fd71-347b-4719-ba3f-efde93b94af2",
   "metadata": {},
   "source": [
    "# Data Science Tools and Ecosystem"
   ]
  },
  {
   "cell_type": "markdown",
   "id": "b429054e-0618-4e0b-8370-f70d2ba15bb4",
   "metadata": {},
   "source": [
    "In this notebook, Data Science Tools and Ecosystem are summarized."
   ]
  },
  {
   "cell_type": "markdown",
   "id": "2b8ab90b-4e8f-4b6c-a81f-891e5ff1f6ba",
   "metadata": {},
   "source": [
    "***Objectives:***\n",
    "+ List popular languages for Data Science\n",
    "+ Libraries used by Data Scientists\n",
    "+ Data Science Tools\n",
    "+ Evaluating arithmetic expressions in Python"
   ]
  },
  {
   "cell_type": "markdown",
   "id": "ca8bc331-52d2-4bd3-9e54-2eca13bc43f1",
   "metadata": {},
   "source": [
    "Some of the popular languages that Data Scientists use are:\n",
    "1. Python\n",
    "2. R statistical language\n",
    "3. Java\n",
    "4. C/C++\n",
    "5. SQL"
   ]
  },
  {
   "cell_type": "markdown",
   "id": "cb9b1f3e-d8da-4337-876c-53c471ee2741",
   "metadata": {},
   "source": [
    "Some of the commonly used libraries used by Data Scientists include:\n",
    "1. NumPy\n",
    "2. Pandas\n",
    "3. Matplotlib\n",
    "4. SciPy\n",
    "5. PyTorch\n",
    "6. Seaborn"
   ]
  },
  {
   "cell_type": "markdown",
   "id": "e0c83f35-8e32-464d-bf2e-3a320807f28c",
   "metadata": {},
   "source": [
    "Data Science Tools\n",
    "------------------|\n",
    "WEKA\n",
    "Java-ML\n",
    "Apache MLlib"
   ]
  },
  {
   "cell_type": "markdown",
   "id": "865de71d-0415-424d-93a9-335b3576abda",
   "metadata": {},
   "source": [
    "### Below are a few examples of evaluating arithmetic expressions in Python"
   ]
  },
  {
   "cell_type": "code",
   "execution_count": 19,
   "id": "81811b65-f256-401f-91dc-eafffaa4f79d",
   "metadata": {},
   "outputs": [
    {
     "data": {
      "text/plain": [
       "17"
      ]
     },
     "execution_count": 19,
     "metadata": {},
     "output_type": "execute_result"
    }
   ],
   "source": [
    "# This a simple arithmetic expression to mutiply then add integers\n",
    "(3*4)+5"
   ]
  },
  {
   "cell_type": "code",
   "execution_count": 1,
   "id": "100e228d-80db-46bb-b29b-1e271830de95",
   "metadata": {},
   "outputs": [
    {
     "data": {
      "text/plain": [
       "3"
      ]
     },
     "execution_count": 1,
     "metadata": {},
     "output_type": "execute_result"
    }
   ],
   "source": [
    "# This will convert 200 minutes to hours by diving by 60\n",
    "200//60"
   ]
  },
  {
   "cell_type": "markdown",
   "id": "ffdf2f06-9cf7-4ef5-ba6d-ebacedb1d871",
   "metadata": {},
   "source": [
    "## Author\n",
    "Natalija"
   ]
  }
 ],
 "metadata": {
  "kernelspec": {
   "display_name": "Python [conda env:base] *",
   "language": "python",
   "name": "conda-base-py"
  },
  "language_info": {
   "codemirror_mode": {
    "name": "ipython",
    "version": 3
   },
   "file_extension": ".py",
   "mimetype": "text/x-python",
   "name": "python",
   "nbconvert_exporter": "python",
   "pygments_lexer": "ipython3",
   "version": "3.12.7"
  }
 },
 "nbformat": 4,
 "nbformat_minor": 5
}
